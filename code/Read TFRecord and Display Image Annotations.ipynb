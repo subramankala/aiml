{
 "cells": [
  {
   "cell_type": "code",
   "execution_count": 6,
   "metadata": {},
   "outputs": [],
   "source": [
    "import matplotlib.pyplot as plt\n",
    "import PIL\n",
    "import PIL.Image as Image\n",
    "import PIL.ImageDraw2 as ImageDraw\n",
    "import io\n",
    "import tensorflow as tf"
   ]
  },
  {
   "cell_type": "code",
   "execution_count": 4,
   "metadata": {},
   "outputs": [],
   "source": [
    "file='/home/jupyter/data/tfrecord/poletag/25-images-27-aug-yellow-validation.record'\n",
    "rawdata=tf.data.TFRecordDataset(file)"
   ]
  },
  {
   "cell_type": "code",
   "execution_count": 9,
   "metadata": {},
   "outputs": [
    {
     "name": "stdout",
     "output_type": "stream",
     "text": [
      "Overlaying Annotations for Image:1008141E-Stephen.Olivera@sce.com-23D55386-D142-466B-A0CD-B429431B35E4.jpg\n",
      "Overlaying Annotations for Image:1009059E-Arturo.Plascencia@sce.com-450F9C1E-20CD-49B3-8905-5EB01C4AB7B2.jpg\n",
      "Overlaying Annotations for Image:1011606E-Airion.Piggue@sce.com-A891CFDA-4F61-462C-9055-98CA6DE46209.jpg\n",
      "Overlaying Annotations for Image:1008120E-John.Anderson@sce.com-44B73339-E421-47DB-9AAE-A665BD714F89.jpg\n",
      "Overlaying Annotations for Image:1007364E-Samuel.Cardoza@sce.com-61183F5E-88F9-4953-8318-35F9CE30946C.jpg\n",
      "Overlaying Annotations for Image:1008916E-Arturo.Plascencia@sce.com-65461FCF-1F3A-40AF-92C1-4F86E703835E.jpg\n",
      "Overlaying Annotations for Image:1009062E-Arturo.Plascencia@sce.com-0EAE92AC-3C9A-4D2E-95B5-E187C585B1CC.jpg\n",
      "Overlaying Annotations for Image:1008542E-Caesar.Sandoval@sce.com-3D2B1CC9-D925-4037-B368-80DC55D3A176.jpg\n",
      "Overlaying Annotations for Image:1008115E-Stephen.Olivera@sce.com-83294FC2-E925-4D25-8F68-3C21815471B8.jpg\n",
      "Overlaying Annotations for Image:1008022E-Ronald.Nagel@sce.com-047724C3-E44C-4004-BF17-1420FDE5ED5A.jpg\n",
      "Overlaying Annotations for Image:1008232E-Stephen.Olivera@sce.com-203468AA-6A6D-402F-886D-223927BCA747.jpg\n",
      "Overlaying Annotations for Image:1008924E-Paul.Fabian@sce.com-C532FF71-96AE-405C-B671-A2585050AC84.jpg\n",
      "Overlaying Annotations for Image:1016138E-Eric.P.Scott@sce.com-06054264-6C1C-47E6-8848-889B22697F89.jpg\n",
      "Overlaying Annotations for Image:1015304E-Eric.Skov@sce.com-EDEC9232-0E9B-47E1-88C8-D74D020CCFCB.jpg\n",
      "Overlaying Annotations for Image:1009060E-Arturo.Plascencia@sce.com-3E9AC16A-1CF7-4DB4-A7F2-6AF2B7D783D0.jpg\n",
      "Overlaying Annotations for Image:1007094E-Gabriel.Gutierrez@sce.com-70C78DBF-F3AA-4979-81CA-A7F5018201DA.jpg\n",
      "Overlaying Annotations for Image:1008229E-Stephen.Olivera@sce.com-E1285F58-487A-4669-925D-632DC8D7FC42.jpg\n",
      "Overlaying Annotations for Image:1008143E-Stephen.Olivera@sce.com-DB5FF5C8-3E45-41F7-BC8A-244C0D4857A5.jpg\n",
      "Overlaying Annotations for Image:1012342E-Matt.De@sce.com-209ACFA6-D65D-401D-B178-0DB1993D6C92.jpg\n",
      "Overlaying Annotations for Image:1008917E-Arturo.Plascencia@sce.com-DB115EA3-0B68-46C4-9D76-30059E3568B5.jpg\n",
      "Overlaying Annotations for Image:1008927E-Paul.Fabian@sce.com-272C9C07-B345-43A7-AB60-2C53F561CF85.jpg\n",
      "Overlaying Annotations for Image:1006710E-Sergio.2.Rodriguez@sce.com-905C4891-1D98-458F-930B-4A2D0AC2BBBD.jpg\n",
      "Overlaying Annotations for Image:1013034E-Alvaro.Gomez@sce.com-19C5C32A-0062-446C-A93A-D16F5A669117.jpg\n",
      "Overlaying Annotations for Image:1009008E-Marcus.Bradley@sce.com-2FFD246A-924B-4FF5-8032-D5659FB56A30.jpg\n",
      "Overlaying Annotations for Image:1015747E-Eric.Skov@sce.com-210B6BF1-A0C0-4814-BC63-A3FDB4387051.jpg\n"
     ]
    }
   ],
   "source": [
    "for record,rawrecord in enumerate(rawdata.as_numpy_iterator()):\n",
    "    example=tf.train.Example()\n",
    "    example.ParseFromString(rawrecord)\n",
    "    rawdict=dict(example.features.feature)\n",
    "    \n",
    "    imgbytes=rawdict['image/encoded'].bytes_list.value[0]\n",
    "    img=Image.open(io.BytesIO(imgbytes))\n",
    "    \n",
    "    width=rawdict['image/width'].int64_list.value[0]\n",
    "    height=rawdict['image/height'].int64_list.value[0]\n",
    "    print(f\"Overlaying Annotations for Image:{rawdict['image/filename'].bytes_list.value[0].decode()}\")\n",
    "    for idx,tag in enumerate(rawdict['image/object/class/text'].bytes_list.value):\n",
    "        minxy=(int(rawdict['image/object/bbox/xmin'].float_list.value[idx]*width),\n",
    "               int(rawdict['image/object/bbox/ymin'].float_list.value[idx]*height))\n",
    "        maxxy=(int(rawdict['image/object/bbox/xmax'].float_list.value[idx]*width),\n",
    "               int(rawdict['image/object/bbox/ymax'].float_list.value[idx]*height))\n",
    "        img_overlay=PIL.ImageDraw.Draw(img)\n",
    "        img_overlay.rectangle([minxy,maxxy],width=3)\n",
    "    img.save(rawdict['image/filename'].bytes_list.value[0].decode())"
   ]
  },
  {
   "cell_type": "code",
   "execution_count": null,
   "metadata": {},
   "outputs": [],
   "source": []
  }
 ],
 "metadata": {
  "environment": {
   "name": "common-cpu.m50",
   "type": "gcloud",
   "uri": "gcr.io/deeplearning-platform-release/base-cpu:m50"
  },
  "kernelspec": {
   "display_name": "Python 3",
   "language": "python",
   "name": "python3"
  },
  "language_info": {
   "codemirror_mode": {
    "name": "ipython",
    "version": 3
   },
   "file_extension": ".py",
   "mimetype": "text/x-python",
   "name": "python",
   "nbconvert_exporter": "python",
   "pygments_lexer": "ipython3",
   "version": "3.7.6"
  }
 },
 "nbformat": 4,
 "nbformat_minor": 4
}
