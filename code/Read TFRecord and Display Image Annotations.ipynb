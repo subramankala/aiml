{
 "cells": [
  {
   "cell_type": "code",
   "execution_count": 6,
   "metadata": {},
   "outputs": [],
   "source": [
    "import matplotlib.pyplot as plt\n",
    "import PIL\n",
    "import PIL.Image as Image\n",
    "import PIL.ImageDraw2 as ImageDraw\n",
    "import io\n",
    "import tensorflow as tf"
   ]
  },
  {
   "cell_type": "code",
   "execution_count": 4,
   "metadata": {},
   "outputs": [],
   "source": [
    "file='PathToMyTFrecord'\n",
    "rawdata=tf.data.TFRecordDataset(file)"
   ]
  },
  {
   "cell_type": "code",
   "execution_count": 10,
   "metadata": {},
   "outputs": [],
   "source": [
    "for record,rawrecord in enumerate(rawdata.as_numpy_iterator()):\n",
    "    example=tf.train.Example()\n",
    "    example.ParseFromString(rawrecord)\n",
    "    rawdict=dict(example.features.feature)\n",
    "    \n",
    "    imgbytes=rawdict['image/encoded'].bytes_list.value[0]\n",
    "    img=Image.open(io.BytesIO(imgbytes))\n",
    "    \n",
    "    width=rawdict['image/width'].int64_list.value[0]\n",
    "    height=rawdict['image/height'].int64_list.value[0]\n",
    "    print(f\"Overlaying Annotations for Image:{rawdict['image/filename'].bytes_list.value[0].decode()}\")\n",
    "    for idx,tag in enumerate(rawdict['image/object/class/text'].bytes_list.value):\n",
    "        minxy=(int(rawdict['image/object/bbox/xmin'].float_list.value[idx]*width),\n",
    "               int(rawdict['image/object/bbox/ymin'].float_list.value[idx]*height))\n",
    "        maxxy=(int(rawdict['image/object/bbox/xmax'].float_list.value[idx]*width),\n",
    "               int(rawdict['image/object/bbox/ymax'].float_list.value[idx]*height))\n",
    "        img_overlay=PIL.ImageDraw.Draw(img)\n",
    "        img_overlay.rectangle([minxy,maxxy],width=3)\n",
    "    img.save(rawdict['image/filename'].bytes_list.value[0].decode())"
   ]
  },
  {
   "cell_type": "code",
   "execution_count": null,
   "metadata": {},
   "outputs": [],
   "source": []
  }
 ],
 "metadata": {
  "environment": {
   "name": "common-cpu.m50",
   "type": "gcloud",
   "uri": "gcr.io/deeplearning-platform-release/base-cpu:m50"
  },
  "kernelspec": {
   "display_name": "Python 3",
   "language": "python",
   "name": "python3"
  },
  "language_info": {
   "codemirror_mode": {
    "name": "ipython",
    "version": 3
   },
   "file_extension": ".py",
   "mimetype": "text/x-python",
   "name": "python",
   "nbconvert_exporter": "python",
   "pygments_lexer": "ipython3",
   "version": "3.7.6"
  }
 },
 "nbformat": 4,
 "nbformat_minor": 4
}
